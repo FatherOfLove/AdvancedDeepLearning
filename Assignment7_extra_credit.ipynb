{
  "nbformat": 4,
  "nbformat_minor": 0,
  "metadata": {
    "colab": {
      "name": "Assignment7_extra_credit.ipynb",
      "private_outputs": true,
      "provenance": [],
      "collapsed_sections": [],
      "authorship_tag": "ABX9TyNrWKdyu9x78ANxfqPwfnnJ",
      "include_colab_link": true
    },
    "kernelspec": {
      "name": "python3",
      "display_name": "Python 3"
    },
    "accelerator": "GPU"
  },
  "cells": [
    {
      "cell_type": "markdown",
      "metadata": {
        "id": "view-in-github",
        "colab_type": "text"
      },
      "source": [
        "<a href=\"https://colab.research.google.com/github/FatherOfLove/AdvancedDeepLearning/blob/master/Assignment7_extra_credit.ipynb\" target=\"_parent\"><img src=\"https://colab.research.google.com/assets/colab-badge.svg\" alt=\"Open In Colab\"/></a>"
      ]
    },
    {
      "cell_type": "markdown",
      "metadata": {
        "id": "VKSTzOQ5Zw9V"
      },
      "source": [
        "Part a XGBOOST"
      ]
    },
    {
      "cell_type": "code",
      "metadata": {
        "id": "-dlHYwXHZywK"
      },
      "source": [
        "import sys\r\n",
        "python_version = sys.version_info[0]"
      ],
      "execution_count": null,
      "outputs": []
    },
    {
      "cell_type": "code",
      "metadata": {
        "id": "yE8m6cAzZzQk"
      },
      "source": [
        "# If you're running on Colab, you'll need to install the What-if Tool package and authenticate\r\n",
        "# If you're on Cloud AI Platform Notebooks, you'll need to install XGBoost on the TF instance\r\n",
        "def pip_install(module):\r\n",
        "    if python_version == '2':\r\n",
        "        !pip install {module} --quiet\r\n",
        "    else:\r\n",
        "        !pip3 install {module} --quiet\r\n",
        "\r\n",
        "try:\r\n",
        "    import google.colab\r\n",
        "    IN_COLAB = True\r\n",
        "except:\r\n",
        "    IN_COLAB = False\r\n",
        "\r\n",
        "if IN_COLAB:\r\n",
        "    pip_install('witwidget')\r\n",
        "\r\n",
        "    from google.colab import auth\r\n",
        "    auth.authenticate_user()\r\n",
        "else:\r\n",
        "    pip_install('xgboost')"
      ],
      "execution_count": null,
      "outputs": []
    },
    {
      "cell_type": "code",
      "metadata": {
        "id": "Ioptyyn7Z0lD"
      },
      "source": [
        "import pandas as pd\r\n",
        "import xgboost as xgb\r\n",
        "import numpy as np\r\n",
        "import collections\r\n",
        "import witwidget\r\n",
        "\r\n",
        "from sklearn.model_selection import train_test_split\r\n",
        "from sklearn.metrics import accuracy_score, confusion_matrix\r\n",
        "from sklearn.utils import shuffle\r\n",
        "from witwidget.notebook.visualization import WitWidget, WitConfigBuilder"
      ],
      "execution_count": null,
      "outputs": []
    },
    {
      "cell_type": "code",
      "metadata": {
        "id": "qHD_idw5Z7rL"
      },
      "source": [
        "# Use a small subset of the data since the original dataset is too big for Colab (2.5GB)\r\n",
        "# Data source: https://www.ffiec.gov/hmda/hmdaflat.htm\r\n",
        "!gsutil cp gs://mortgage_dataset_files/mortgage-small.csv ."
      ],
      "execution_count": null,
      "outputs": []
    },
    {
      "cell_type": "code",
      "metadata": {
        "id": "rvs7jqvLZ91m"
      },
      "source": [
        "# Set column dtypes for Pandas\r\n",
        "COLUMN_NAMES = collections.OrderedDict({\r\n",
        "  'as_of_year': np.int16,\r\n",
        "  'agency_code': 'category',\r\n",
        "  'loan_type': 'category',\r\n",
        "  'property_type': 'category',\r\n",
        "  'loan_purpose': 'category',\r\n",
        "  'occupancy': np.int8,\r\n",
        "  'loan_amt_thousands': np.float64,\r\n",
        "  'preapproval': 'category',\r\n",
        "  'county_code': np.float64,\r\n",
        "  'applicant_income_thousands': np.float64,\r\n",
        "  'purchaser_type': 'category',\r\n",
        "  'hoepa_status': 'category',\r\n",
        "  'lien_status': 'category',\r\n",
        "  'population': np.float64,\r\n",
        "  'ffiec_median_fam_income': np.float64,\r\n",
        "  'tract_to_msa_income_pct': np.float64,\r\n",
        "  'num_owner_occupied_units': np.float64,\r\n",
        "  'num_1_to_4_family_units': np.float64,\r\n",
        "  'approved': np.int8\r\n",
        "})"
      ],
      "execution_count": null,
      "outputs": []
    },
    {
      "cell_type": "code",
      "metadata": {
        "id": "OxifxrUwZ_lp"
      },
      "source": [
        "# Load data into Pandas\r\n",
        "data = pd.read_csv(\r\n",
        "  'mortgage-small.csv', \r\n",
        "  index_col=False,\r\n",
        "  dtype=COLUMN_NAMES\r\n",
        ")\r\n",
        "data = data.dropna()\r\n",
        "data = shuffle(data, random_state=2)\r\n",
        "data.head()"
      ],
      "execution_count": null,
      "outputs": []
    },
    {
      "cell_type": "code",
      "metadata": {
        "id": "tljba4zDaBKL"
      },
      "source": [
        "data.info()"
      ],
      "execution_count": null,
      "outputs": []
    },
    {
      "cell_type": "code",
      "metadata": {
        "id": "uio9izLbaDpN"
      },
      "source": [
        "data.tail()"
      ],
      "execution_count": null,
      "outputs": []
    },
    {
      "cell_type": "code",
      "metadata": {
        "id": "RaDGtqQiaFMr"
      },
      "source": [
        "data.isnull().value_counts()"
      ],
      "execution_count": null,
      "outputs": []
    },
    {
      "cell_type": "code",
      "metadata": {
        "id": "paIWvv25aKjj"
      },
      "source": [
        "# Label preprocessing\r\n",
        "labels = data['approved'].values\r\n",
        "\r\n",
        "# See the distribution of approved / denied classes (0: denied, 1: approved)\r\n",
        "print(data['approved'].value_counts())"
      ],
      "execution_count": null,
      "outputs": []
    },
    {
      "cell_type": "code",
      "metadata": {
        "id": "nUvHyLgdaO4S"
      },
      "source": [
        "data = data.drop(columns=['approved'])"
      ],
      "execution_count": null,
      "outputs": []
    },
    {
      "cell_type": "code",
      "metadata": {
        "id": "YKmsRfiAaQeH"
      },
      "source": [
        "data.head()"
      ],
      "execution_count": null,
      "outputs": []
    },
    {
      "cell_type": "code",
      "metadata": {
        "id": "R_kq63mMaRdy"
      },
      "source": [
        "# Convert categorical columns to dummy columns\r\n",
        "dummy_columns = list(data.dtypes[data.dtypes == 'category'].index)\r\n",
        "data = pd.get_dummies(data, columns=dummy_columns)"
      ],
      "execution_count": null,
      "outputs": []
    },
    {
      "cell_type": "code",
      "metadata": {
        "id": "d-Cz3p3CaTB-"
      },
      "source": [
        "data.head()"
      ],
      "execution_count": null,
      "outputs": []
    },
    {
      "cell_type": "code",
      "metadata": {
        "id": "gAVGHD9baUk-"
      },
      "source": [
        "# Split the data into train / test sets\r\n",
        "x,y = data,labels\r\n",
        "x_train,x_test,y_train,y_test = train_test_split(x,y,train_size=0.01, random_state=42)"
      ],
      "execution_count": null,
      "outputs": []
    },
    {
      "cell_type": "code",
      "metadata": {
        "id": "ro4x-8vTaW4c"
      },
      "source": [
        "# Train the model, this will take a few minutes to run\r\n",
        "bst = xgb.XGBClassifier(\r\n",
        "    objective='reg:logistic'\r\n",
        ")"
      ],
      "execution_count": null,
      "outputs": []
    },
    {
      "cell_type": "code",
      "metadata": {
        "id": "awuwT7W1bAGt"
      },
      "source": [
        "bst.fit(x_train, y_train)"
      ],
      "execution_count": null,
      "outputs": []
    },
    {
      "cell_type": "code",
      "metadata": {
        "id": "SZKBafgVaYKU"
      },
      "source": [
        "# Get predictions on the test set and print the accuracy score\r\n",
        "y_pred = bst.predict(x_test)\r\n",
        "acc = accuracy_score(y_test, y_pred.round())\r\n",
        "print(acc, '\\n')"
      ],
      "execution_count": null,
      "outputs": []
    },
    {
      "cell_type": "markdown",
      "metadata": {
        "id": "zDp80P0Vdf47"
      },
      "source": [
        "result"
      ]
    },
    {
      "cell_type": "code",
      "metadata": {
        "id": "BU90bnAtaa4Q"
      },
      "source": [
        "# Print a confusion matrix\r\n",
        "print('Confusion matrix:')\r\n",
        "cm = confusion_matrix(y_test, y_pred.round())\r\n",
        "cm = cm / cm.astype(np.float).sum(axis=1)\r\n",
        "print(cm)"
      ],
      "execution_count": null,
      "outputs": []
    },
    {
      "cell_type": "markdown",
      "metadata": {
        "id": "_i9snegRahxj"
      },
      "source": [
        "CatBoost"
      ]
    },
    {
      "cell_type": "code",
      "metadata": {
        "id": "WOIfeEPoarCd"
      },
      "source": [
        "!pip install catboost\r\n",
        "!pip install ipywidgets\r\n",
        "!jupyter nbextension enable --py widgetsnbextension"
      ],
      "execution_count": null,
      "outputs": []
    },
    {
      "cell_type": "code",
      "metadata": {
        "id": "gWfS_qGkbaud"
      },
      "source": [
        "from catboost.datasets import titanic\r\n",
        "import numpy as np\r\n",
        "\r\n",
        "train_df, test_df = titanic()\r\n",
        "\r\n",
        "train_df.head()"
      ],
      "execution_count": null,
      "outputs": []
    },
    {
      "cell_type": "code",
      "metadata": {
        "id": "w73uMznhbgPc"
      },
      "source": [
        "null_value_stats = train_df.isnull().sum(axis=0)\r\n",
        "null_value_stats[null_value_stats != 0]"
      ],
      "execution_count": null,
      "outputs": []
    },
    {
      "cell_type": "code",
      "metadata": {
        "id": "6260dHfabiGl"
      },
      "source": [
        "train_df.fillna(-999, inplace=True)\r\n",
        "test_df.fillna(-999, inplace=True)"
      ],
      "execution_count": null,
      "outputs": []
    },
    {
      "cell_type": "code",
      "metadata": {
        "id": "rHmBDKrcbjXp"
      },
      "source": [
        "X = train_df.drop('Survived', axis=1)\r\n",
        "y = train_df.Survived"
      ],
      "execution_count": null,
      "outputs": []
    },
    {
      "cell_type": "code",
      "metadata": {
        "id": "9vTv3cQCbkxm"
      },
      "source": [
        "print(X.dtypes)\r\n",
        "\r\n",
        "categorical_features_indices = np.where(X.dtypes != np.float)[0]"
      ],
      "execution_count": null,
      "outputs": []
    },
    {
      "cell_type": "code",
      "metadata": {
        "id": "EeViuhyhbl4F"
      },
      "source": [
        "from sklearn.model_selection import train_test_split\r\n",
        "\r\n",
        "X_train, X_validation, y_train, y_validation = train_test_split(X, y, train_size=0.75, random_state=42)\r\n",
        "\r\n",
        "X_test = test_df"
      ],
      "execution_count": null,
      "outputs": []
    },
    {
      "cell_type": "code",
      "metadata": {
        "id": "9XOsQoBnbo33"
      },
      "source": [
        "from catboost import CatBoostClassifier, Pool, cv\r\n",
        "from sklearn.metrics import accuracy_score"
      ],
      "execution_count": null,
      "outputs": []
    },
    {
      "cell_type": "code",
      "metadata": {
        "id": "NPgdCUq7brVK"
      },
      "source": [
        "model = CatBoostClassifier(\r\n",
        "    custom_loss=['Accuracy'],\r\n",
        "    random_seed=42,\r\n",
        "    logging_level='Silent'\r\n",
        ")"
      ],
      "execution_count": null,
      "outputs": []
    },
    {
      "cell_type": "code",
      "metadata": {
        "id": "7TStV2K0btLK"
      },
      "source": [
        "model.fit(\r\n",
        "    X_train, y_train,\r\n",
        "    cat_features=categorical_features_indices,\r\n",
        "    eval_set=(X_validation, y_validation),\r\n",
        "#     logging_level='Verbose',  # you can uncomment this for text output\r\n",
        "    plot=True\r\n",
        ");"
      ],
      "execution_count": null,
      "outputs": []
    },
    {
      "cell_type": "code",
      "metadata": {
        "id": "5OCj8rDabuu1"
      },
      "source": [
        "cv_params = model.get_params()\r\n",
        "cv_params.update({\r\n",
        "    'loss_function': 'Logloss'\r\n",
        "})\r\n",
        "cv_data = cv(\r\n",
        "    Pool(X, y, cat_features=categorical_features_indices),\r\n",
        "    cv_params,\r\n",
        "    plot=True\r\n",
        ")"
      ],
      "execution_count": null,
      "outputs": []
    },
    {
      "cell_type": "markdown",
      "metadata": {
        "id": "3nr0Ck_Odj_c"
      },
      "source": [
        "Result"
      ]
    },
    {
      "cell_type": "code",
      "metadata": {
        "id": "zQCp4lkkby6d"
      },
      "source": [
        "print('Best validation accuracy score: {:.2f}±{:.2f} on step {}'.format(\r\n",
        "    np.max(cv_data['test-Accuracy-mean']),\r\n",
        "    cv_data['test-Accuracy-std'][np.argmax(cv_data['test-Accuracy-mean'])],\r\n",
        "    np.argmax(cv_data['test-Accuracy-mean'])\r\n",
        "))"
      ],
      "execution_count": null,
      "outputs": []
    },
    {
      "cell_type": "code",
      "metadata": {
        "id": "znGRp3XZcJLi"
      },
      "source": [
        "print('Precise validation accuracy score: {}'.format(np.max(cv_data['test-Accuracy-mean'])))"
      ],
      "execution_count": null,
      "outputs": []
    },
    {
      "cell_type": "code",
      "metadata": {
        "id": "cHU5G5LIcMmH"
      },
      "source": [
        ""
      ],
      "execution_count": null,
      "outputs": []
    },
    {
      "cell_type": "markdown",
      "metadata": {
        "id": "1pjwYuiMcRal"
      },
      "source": [
        "LightGBM"
      ]
    },
    {
      "cell_type": "code",
      "metadata": {
        "id": "Wk0YZz-QcWzr"
      },
      "source": [
        "import lightgbm as lgb"
      ],
      "execution_count": null,
      "outputs": []
    },
    {
      "cell_type": "code",
      "metadata": {
        "id": "DDkfHhnGdNh6"
      },
      "source": [
        "lgb_train = lgb.Dataset(X_train, y_train)\r\n",
        "lgb_eval = lgb.Dataset(X_test, y_test, reference=lgb_train)"
      ],
      "execution_count": null,
      "outputs": []
    },
    {
      "cell_type": "code",
      "metadata": {
        "id": "tPZGHe2pdUY3"
      },
      "source": [
        "lgb_train"
      ],
      "execution_count": null,
      "outputs": []
    },
    {
      "cell_type": "code",
      "metadata": {
        "id": "63_8prvdcY8z"
      },
      "source": [
        "!git clone --recursive https://github.com/Microsoft/LightGBM\r\n",
        "%cd LightGBM\r\n",
        "!mkdir build\r\n",
        "!cd build\r\n",
        "!cmake ./LightGBM\r\n",
        "!make -j4"
      ],
      "execution_count": null,
      "outputs": []
    },
    {
      "cell_type": "code",
      "metadata": {
        "id": "7CYXk-m2caQr"
      },
      "source": [
        "params = {\r\n",
        " 'boosting_type': 'gbdt',\r\n",
        " 'objective': 'regression',\r\n",
        " 'device_type':'gpu',\r\n",
        " 'metric': {'l2', 'l1'},\r\n",
        " 'num_leaves': 31,\r\n",
        " 'learning_rate': 0.05,\r\n",
        " 'feature_fraction': 0.9,\r\n",
        " 'bagging_fraction': 0.8,\r\n",
        " 'bagging_freq': 5,\r\n",
        " 'verbose': 0\r\n",
        "}"
      ],
      "execution_count": null,
      "outputs": []
    },
    {
      "cell_type": "code",
      "metadata": {
        "id": "i8BUeySqcdbT"
      },
      "source": [
        "print('Starting training...')\r\n",
        "# train\r\n",
        "gbm = lgb.train(params,\r\n",
        "                lgb_train,\r\n",
        "                num_boost_round=20,\r\n",
        "                valid_sets=lgb_eval,\r\n",
        "                early_stopping_rounds=5)"
      ],
      "execution_count": null,
      "outputs": []
    },
    {
      "cell_type": "code",
      "metadata": {
        "id": "rFkQGqCGdFDX"
      },
      "source": [
        "\r\n",
        "print('Starting predicting...')\r\n",
        "# predict\r\n",
        "y_pred = gbm.predict(X_test, num_iteration=gbm.best_iteration)\r\n",
        "# eval\r\n",
        "print('The rmse of prediction is:', mean_squared_error(y_test, y_pred) ** 0.5)"
      ],
      "execution_count": null,
      "outputs": []
    },
    {
      "cell_type": "code",
      "metadata": {
        "id": "ZqlfyzfTdYHo"
      },
      "source": [
        ""
      ],
      "execution_count": null,
      "outputs": []
    }
  ]
}