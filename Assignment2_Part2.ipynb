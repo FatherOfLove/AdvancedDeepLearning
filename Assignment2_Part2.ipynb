{
  "nbformat": 4,
  "nbformat_minor": 0,
  "metadata": {
    "colab": {
      "name": "Assignment2_Part2.ipynb",
      "provenance": [],
      "collapsed_sections": [],
      "authorship_tag": "ABX9TyM1zR/XYv4LErp9kc6pw4EN",
      "include_colab_link": true
    },
    "kernelspec": {
      "name": "python3",
      "display_name": "Python 3"
    }
  },
  "cells": [
    {
      "cell_type": "markdown",
      "metadata": {
        "id": "view-in-github",
        "colab_type": "text"
      },
      "source": [
        "<a href=\"https://colab.research.google.com/github/FatherOfLove/AdvancedDeepLearning/blob/master/Assignment2_Part2.ipynb\" target=\"_parent\"><img src=\"https://colab.research.google.com/assets/colab-badge.svg\" alt=\"Open In Colab\"/></a>"
      ]
    },
    {
      "cell_type": "code",
      "metadata": {
        "colab": {
          "base_uri": "https://localhost:8080/"
        },
        "id": "ZK59811YRx6s",
        "outputId": "327aa712-41f3-43cb-e4d8-13ac7f5478c9"
      },
      "source": [
        "!pip install tensorflow==2.0.0\r\n"
      ],
      "execution_count": 1,
      "outputs": [
        {
          "output_type": "stream",
          "text": [
            "Collecting tensorflow==2.0.0\n",
            "\u001b[?25l  Downloading https://files.pythonhosted.org/packages/46/0f/7bd55361168bb32796b360ad15a25de6966c9c1beb58a8e30c01c8279862/tensorflow-2.0.0-cp36-cp36m-manylinux2010_x86_64.whl (86.3MB)\n",
            "\u001b[K     |████████████████████████████████| 86.3MB 63kB/s \n",
            "\u001b[?25hRequirement already satisfied: astor>=0.6.0 in /usr/local/lib/python3.6/dist-packages (from tensorflow==2.0.0) (0.8.1)\n",
            "Collecting tensorboard<2.1.0,>=2.0.0\n",
            "\u001b[?25l  Downloading https://files.pythonhosted.org/packages/76/54/99b9d5d52d5cb732f099baaaf7740403e83fe6b0cedde940fabd2b13d75a/tensorboard-2.0.2-py3-none-any.whl (3.8MB)\n",
            "\u001b[K     |████████████████████████████████| 3.8MB 44.9MB/s \n",
            "\u001b[?25hRequirement already satisfied: numpy<2.0,>=1.16.0 in /usr/local/lib/python3.6/dist-packages (from tensorflow==2.0.0) (1.18.5)\n",
            "Requirement already satisfied: google-pasta>=0.1.6 in /usr/local/lib/python3.6/dist-packages (from tensorflow==2.0.0) (0.2.0)\n",
            "Requirement already satisfied: wrapt>=1.11.1 in /usr/local/lib/python3.6/dist-packages (from tensorflow==2.0.0) (1.12.1)\n",
            "Requirement already satisfied: termcolor>=1.1.0 in /usr/local/lib/python3.6/dist-packages (from tensorflow==2.0.0) (1.1.0)\n",
            "Requirement already satisfied: opt-einsum>=2.3.2 in /usr/local/lib/python3.6/dist-packages (from tensorflow==2.0.0) (3.3.0)\n",
            "Requirement already satisfied: protobuf>=3.6.1 in /usr/local/lib/python3.6/dist-packages (from tensorflow==2.0.0) (3.12.4)\n",
            "Requirement already satisfied: grpcio>=1.8.6 in /usr/local/lib/python3.6/dist-packages (from tensorflow==2.0.0) (1.34.0)\n",
            "Collecting gast==0.2.2\n",
            "  Downloading https://files.pythonhosted.org/packages/4e/35/11749bf99b2d4e3cceb4d55ca22590b0d7c2c62b9de38ac4a4a7f4687421/gast-0.2.2.tar.gz\n",
            "Requirement already satisfied: keras-preprocessing>=1.0.5 in /usr/local/lib/python3.6/dist-packages (from tensorflow==2.0.0) (1.1.2)\n",
            "Collecting keras-applications>=1.0.8\n",
            "\u001b[?25l  Downloading https://files.pythonhosted.org/packages/71/e3/19762fdfc62877ae9102edf6342d71b28fbfd9dea3d2f96a882ce099b03f/Keras_Applications-1.0.8-py3-none-any.whl (50kB)\n",
            "\u001b[K     |████████████████████████████████| 51kB 6.4MB/s \n",
            "\u001b[?25hRequirement already satisfied: absl-py>=0.7.0 in /usr/local/lib/python3.6/dist-packages (from tensorflow==2.0.0) (0.10.0)\n",
            "Requirement already satisfied: wheel>=0.26 in /usr/local/lib/python3.6/dist-packages (from tensorflow==2.0.0) (0.36.1)\n",
            "Requirement already satisfied: six>=1.10.0 in /usr/local/lib/python3.6/dist-packages (from tensorflow==2.0.0) (1.15.0)\n",
            "Collecting tensorflow-estimator<2.1.0,>=2.0.0\n",
            "\u001b[?25l  Downloading https://files.pythonhosted.org/packages/fc/08/8b927337b7019c374719145d1dceba21a8bb909b93b1ad6f8fb7d22c1ca1/tensorflow_estimator-2.0.1-py2.py3-none-any.whl (449kB)\n",
            "\u001b[K     |████████████████████████████████| 450kB 37.7MB/s \n",
            "\u001b[?25hRequirement already satisfied: werkzeug>=0.11.15 in /usr/local/lib/python3.6/dist-packages (from tensorboard<2.1.0,>=2.0.0->tensorflow==2.0.0) (1.0.1)\n",
            "Requirement already satisfied: google-auth<2,>=1.6.3 in /usr/local/lib/python3.6/dist-packages (from tensorboard<2.1.0,>=2.0.0->tensorflow==2.0.0) (1.17.2)\n",
            "Requirement already satisfied: setuptools>=41.0.0 in /usr/local/lib/python3.6/dist-packages (from tensorboard<2.1.0,>=2.0.0->tensorflow==2.0.0) (50.3.2)\n",
            "Requirement already satisfied: markdown>=2.6.8 in /usr/local/lib/python3.6/dist-packages (from tensorboard<2.1.0,>=2.0.0->tensorflow==2.0.0) (3.3.3)\n",
            "Requirement already satisfied: google-auth-oauthlib<0.5,>=0.4.1 in /usr/local/lib/python3.6/dist-packages (from tensorboard<2.1.0,>=2.0.0->tensorflow==2.0.0) (0.4.2)\n",
            "Requirement already satisfied: requests<3,>=2.21.0 in /usr/local/lib/python3.6/dist-packages (from tensorboard<2.1.0,>=2.0.0->tensorflow==2.0.0) (2.23.0)\n",
            "Requirement already satisfied: h5py in /usr/local/lib/python3.6/dist-packages (from keras-applications>=1.0.8->tensorflow==2.0.0) (2.10.0)\n",
            "Requirement already satisfied: pyasn1-modules>=0.2.1 in /usr/local/lib/python3.6/dist-packages (from google-auth<2,>=1.6.3->tensorboard<2.1.0,>=2.0.0->tensorflow==2.0.0) (0.2.8)\n",
            "Requirement already satisfied: cachetools<5.0,>=2.0.0 in /usr/local/lib/python3.6/dist-packages (from google-auth<2,>=1.6.3->tensorboard<2.1.0,>=2.0.0->tensorflow==2.0.0) (4.1.1)\n",
            "Requirement already satisfied: rsa<5,>=3.1.4; python_version >= \"3\" in /usr/local/lib/python3.6/dist-packages (from google-auth<2,>=1.6.3->tensorboard<2.1.0,>=2.0.0->tensorflow==2.0.0) (4.6)\n",
            "Requirement already satisfied: importlib-metadata; python_version < \"3.8\" in /usr/local/lib/python3.6/dist-packages (from markdown>=2.6.8->tensorboard<2.1.0,>=2.0.0->tensorflow==2.0.0) (3.1.1)\n",
            "Requirement already satisfied: requests-oauthlib>=0.7.0 in /usr/local/lib/python3.6/dist-packages (from google-auth-oauthlib<0.5,>=0.4.1->tensorboard<2.1.0,>=2.0.0->tensorflow==2.0.0) (1.3.0)\n",
            "Requirement already satisfied: urllib3!=1.25.0,!=1.25.1,<1.26,>=1.21.1 in /usr/local/lib/python3.6/dist-packages (from requests<3,>=2.21.0->tensorboard<2.1.0,>=2.0.0->tensorflow==2.0.0) (1.24.3)\n",
            "Requirement already satisfied: chardet<4,>=3.0.2 in /usr/local/lib/python3.6/dist-packages (from requests<3,>=2.21.0->tensorboard<2.1.0,>=2.0.0->tensorflow==2.0.0) (3.0.4)\n",
            "Requirement already satisfied: certifi>=2017.4.17 in /usr/local/lib/python3.6/dist-packages (from requests<3,>=2.21.0->tensorboard<2.1.0,>=2.0.0->tensorflow==2.0.0) (2020.12.5)\n",
            "Requirement already satisfied: idna<3,>=2.5 in /usr/local/lib/python3.6/dist-packages (from requests<3,>=2.21.0->tensorboard<2.1.0,>=2.0.0->tensorflow==2.0.0) (2.10)\n",
            "Requirement already satisfied: pyasn1<0.5.0,>=0.4.6 in /usr/local/lib/python3.6/dist-packages (from pyasn1-modules>=0.2.1->google-auth<2,>=1.6.3->tensorboard<2.1.0,>=2.0.0->tensorflow==2.0.0) (0.4.8)\n",
            "Requirement already satisfied: zipp>=0.5 in /usr/local/lib/python3.6/dist-packages (from importlib-metadata; python_version < \"3.8\"->markdown>=2.6.8->tensorboard<2.1.0,>=2.0.0->tensorflow==2.0.0) (3.4.0)\n",
            "Requirement already satisfied: oauthlib>=3.0.0 in /usr/local/lib/python3.6/dist-packages (from requests-oauthlib>=0.7.0->google-auth-oauthlib<0.5,>=0.4.1->tensorboard<2.1.0,>=2.0.0->tensorflow==2.0.0) (3.1.0)\n",
            "Building wheels for collected packages: gast\n",
            "  Building wheel for gast (setup.py) ... \u001b[?25l\u001b[?25hdone\n",
            "  Created wheel for gast: filename=gast-0.2.2-cp36-none-any.whl size=7542 sha256=72cfd3426e0c82844aa6fd99e460c4b7b80c9b691ee6f234a5dd9da384c83290\n",
            "  Stored in directory: /root/.cache/pip/wheels/5c/2e/7e/a1d4d4fcebe6c381f378ce7743a3ced3699feb89bcfbdadadd\n",
            "Successfully built gast\n",
            "\u001b[31mERROR: tensorflow-probability 0.11.0 has requirement gast>=0.3.2, but you'll have gast 0.2.2 which is incompatible.\u001b[0m\n",
            "Installing collected packages: tensorboard, gast, keras-applications, tensorflow-estimator, tensorflow\n",
            "  Found existing installation: tensorboard 2.3.0\n",
            "    Uninstalling tensorboard-2.3.0:\n",
            "      Successfully uninstalled tensorboard-2.3.0\n",
            "  Found existing installation: gast 0.3.3\n",
            "    Uninstalling gast-0.3.3:\n",
            "      Successfully uninstalled gast-0.3.3\n",
            "  Found existing installation: tensorflow-estimator 2.3.0\n",
            "    Uninstalling tensorflow-estimator-2.3.0:\n",
            "      Successfully uninstalled tensorflow-estimator-2.3.0\n",
            "  Found existing installation: tensorflow 2.3.0\n",
            "    Uninstalling tensorflow-2.3.0:\n",
            "      Successfully uninstalled tensorflow-2.3.0\n",
            "Successfully installed gast-0.2.2 keras-applications-1.0.8 tensorboard-2.0.2 tensorflow-2.0.0 tensorflow-estimator-2.0.1\n"
          ],
          "name": "stdout"
        }
      ]
    },
    {
      "cell_type": "code",
      "metadata": {
        "colab": {
          "base_uri": "https://localhost:8080/"
        },
        "id": "qU36R8vhR67z",
        "outputId": "a3f09c34-8e32-4c8f-94a4-5ab6455d966e"
      },
      "source": [
        "import tensorflow as tf\r\n",
        "print(tf.__version__)"
      ],
      "execution_count": 2,
      "outputs": [
        {
          "output_type": "stream",
          "text": [
            "2.0.0\n"
          ],
          "name": "stdout"
        }
      ]
    },
    {
      "cell_type": "code",
      "metadata": {
        "id": "E6XlCgPRSDTQ"
      },
      "source": [
        "import os\r\n",
        "import datetime\r\n",
        "import copy\r\n",
        "import re\r\n",
        "import yaml\r\n",
        "import uuid\r\n",
        "import warnings\r\n",
        "import time\r\n",
        "import inspect\r\n",
        "\r\n",
        "import numpy as np\r\n",
        "import pandas as pd\r\n",
        "from functools import partial, reduce\r\n",
        "from random import shuffle\r\n",
        "import random"
      ],
      "execution_count": 3,
      "outputs": []
    },
    {
      "cell_type": "code",
      "metadata": {
        "id": "S0KWpj8qSHqi"
      },
      "source": [
        "input_dim = 2\r\n",
        "output_dim = 1\r\n",
        "learning_rate = 0.01\r\n",
        "\r\n",
        "# This is our weight matrix\r\n",
        "w = tf.Variable(tf.random.uniform(shape=(input_dim, output_dim)))\r\n",
        "# This is our bias vector\r\n",
        "b = tf.Variable(tf.zeros(shape=(output_dim,)))\r\n",
        "\r\n",
        "def compute_predictions(features):\r\n",
        "  return tf.matmul(features, w) + b\r\n",
        "\r\n",
        "def compute_loss(labels, predictions):\r\n",
        "  return tf.reduce_mean(tf.square(labels - predictions))\r\n",
        "\r\n",
        "def train_on_batch(x, y):\r\n",
        "  with tf.GradientTape() as tape:\r\n",
        "    predictions = compute_predictions(x)\r\n",
        "    loss = compute_loss(y, predictions)\r\n",
        "    # Note that `tape.gradient` works with a list as well (w, b).\r\n",
        "    dloss_dw, dloss_db = tape.gradient(loss, [w, b])\r\n",
        "  w.assign_sub(learning_rate * dloss_dw)\r\n",
        "  b.assign_sub(learning_rate * dloss_db)\r\n",
        "  return loss"
      ],
      "execution_count": 4,
      "outputs": []
    },
    {
      "cell_type": "code",
      "metadata": {
        "colab": {
          "base_uri": "https://localhost:8080/",
          "height": 282
        },
        "id": "Dg_pwRJLSPKb",
        "outputId": "cb297dfa-d566-4039-fb3b-32a048ce6cc9"
      },
      "source": [
        "import matplotlib.pyplot as plt\r\n",
        "%matplotlib inline\r\n",
        "\r\n",
        "# Prepare a dataset.\r\n",
        "num_samples = 10000\r\n",
        "negative_samples = np.random.multivariate_normal(\r\n",
        "    mean=[0, 3], cov=[[1, 0.5],[0.5, 1]], size=num_samples)\r\n",
        "positive_samples = np.random.multivariate_normal(\r\n",
        "    mean=[3, 0], cov=[[1, 0.5],[0.5, 1]], size=num_samples)\r\n",
        "features = np.vstack((negative_samples, positive_samples)).astype(np.float32)\r\n",
        "labels = np.vstack((np.zeros((num_samples, 1), dtype='float32'),\r\n",
        "                    np.ones((num_samples, 1), dtype='float32')))\r\n",
        "\r\n",
        "plt.scatter(features[:, 0], features[:, 1], c=labels[:, 0])"
      ],
      "execution_count": 5,
      "outputs": [
        {
          "output_type": "execute_result",
          "data": {
            "text/plain": [
              "<matplotlib.collections.PathCollection at 0x7f3353e666a0>"
            ]
          },
          "metadata": {
            "tags": []
          },
          "execution_count": 5
        },
        {
          "output_type": "display_data",
          "data": {
            "image/png": "[encoded data removed]",
            "text/plain": [
              "<Figure size 432x288 with 1 Axes>"
            ]
          },
          "metadata": {
            "tags": [],
            "needs_background": "light"
          }
        }
      ]
    },
    {
      "cell_type": "code",
      "metadata": {
        "colab": {
          "base_uri": "https://localhost:8080/"
        },
        "id": "Vp6K6pNRSQ-2",
        "outputId": "b7fd4c84-69fd-45da-c39d-b29f85373f4f"
      },
      "source": [
        "# Shuffle the data.\r\n",
        "indices = np.random.permutation(len(features))\r\n",
        "features = features[indices]\r\n",
        "labels = labels[indices]\r\n",
        "\r\n",
        "# Create a tf.data.Dataset object for easy batched iteration\r\n",
        "dataset = tf.data.Dataset.from_tensor_slices((features, labels))\r\n",
        "dataset = dataset.shuffle(buffer_size=1024).batch(256)\r\n",
        "\r\n",
        "for epoch in range(10):\r\n",
        "  for step, (x, y) in enumerate(dataset):\r\n",
        "    loss = train_on_batch(x, y)\r\n",
        "  print('Epoch %d: last batch loss = %.4f' % (epoch, float(loss)))"
      ],
      "execution_count": 6,
      "outputs": [
        {
          "output_type": "stream",
          "text": [
            "Epoch 0: last batch loss = 0.0583\n",
            "Epoch 1: last batch loss = 0.0635\n",
            "Epoch 2: last batch loss = 0.0460\n",
            "Epoch 3: last batch loss = 0.0230\n",
            "Epoch 4: last batch loss = 0.0328\n",
            "Epoch 5: last batch loss = 0.0381\n",
            "Epoch 6: last batch loss = 0.0238\n",
            "Epoch 7: last batch loss = 0.0299\n",
            "Epoch 8: last batch loss = 0.0232\n",
            "Epoch 9: last batch loss = 0.0218\n"
          ],
          "name": "stdout"
        }
      ]
    },
    {
      "cell_type": "code",
      "metadata": {
        "colab": {
          "base_uri": "https://localhost:8080/",
          "height": 282
        },
        "id": "iGhEPxgjSS0p",
        "outputId": "70ef6bdb-b2e8-473a-c2a4-6cd2b48d73a9"
      },
      "source": [
        "predictions = compute_predictions(features)\r\n",
        "plt.scatter(features[:, 0], features[:, 1], c=predictions[:, 0] > 0.5)"
      ],
      "execution_count": 7,
      "outputs": [
        {
          "output_type": "execute_result",
          "data": {
            "text/plain": [
              "<matplotlib.collections.PathCollection at 0x7f33528fb208>"
            ]
          },
          "metadata": {
            "tags": []
          },
          "execution_count": 7
        },
        {
          "output_type": "display_data",
          "data": {
            "image/png": "[encoded data removed]",
            "text/plain": [
              "<Figure size 432x288 with 1 Axes>"
            ]
          },
          "metadata": {
            "tags": [],
            "needs_background": "light"
          }
        }
      ]
    },
    {
      "cell_type": "code",
      "metadata": {
        "colab": {
          "base_uri": "https://localhost:8080/"
        },
        "id": "CHwEp9fbSU9y",
        "outputId": "9ddcc6ce-7d76-4e67-cfe3-90677ddd1f5f"
      },
      "source": [
        "import time\r\n",
        "\r\n",
        "t0 = time.time()\r\n",
        "for epoch in range(20):\r\n",
        "  for step, (x, y) in enumerate(dataset):\r\n",
        "    loss = train_on_batch(x, y)\r\n",
        "t_end = time.time() - t0\r\n",
        "print('Time per epoch: %.3f s' % (t_end / 20,))"
      ],
      "execution_count": 8,
      "outputs": [
        {
          "output_type": "stream",
          "text": [
            "Time per epoch: 0.141 s\n"
          ],
          "name": "stdout"
        }
      ]
    },
    {
      "cell_type": "code",
      "metadata": {
        "colab": {
          "base_uri": "https://localhost:8080/"
        },
        "id": "7YZ2UysMSa9s",
        "outputId": "7f0fdf5d-4005-4e26-869c-c364b5435c00"
      },
      "source": [
        "@tf.function\r\n",
        "def train_on_batch(x, y):\r\n",
        "  with tf.GradientTape() as tape:\r\n",
        "    predictions = compute_predictions(x)\r\n",
        "    loss = compute_loss(y, predictions)\r\n",
        "    dloss_dw, dloss_db = tape.gradient(loss, [w, b])\r\n",
        "  w.assign_sub(learning_rate * dloss_dw)\r\n",
        "  b.assign_sub(learning_rate * dloss_db)\r\n",
        "  return loss\r\n",
        "\r\n",
        "t0 = time.time()\r\n",
        "for epoch in range(20):\r\n",
        "  for step, (x, y) in enumerate(dataset):\r\n",
        "    loss = train_on_batch(x, y)\r\n",
        "t_end = time.time() - t0\r\n",
        "print('Time per epoch: %.3f s' % (t_end / 20,))"
      ],
      "execution_count": 9,
      "outputs": [
        {
          "output_type": "stream",
          "text": [
            "Time per epoch: 0.082 s\n"
          ],
          "name": "stdout"
        }
      ]
    },
    {
      "cell_type": "markdown",
      "metadata": {
        "id": "qnygGmwGSiaZ"
      },
      "source": [
        "Keras API"
      ]
    },
    {
      "cell_type": "code",
      "metadata": {
        "id": "FJtZ0rKvSe1C"
      },
      "source": [
        "from tensorflow.keras.layers import Layer\r\n",
        "\r\n",
        "class Linear(Layer):\r\n",
        "  \"\"\"y = w.x + b\"\"\"\r\n",
        "\r\n",
        "  def __init__(self, units=32, input_dim=32):\r\n",
        "      super(Linear, self).__init__()\r\n",
        "      w_init = tf.random_normal_initializer()\r\n",
        "      self.w = tf.Variable(\r\n",
        "          initial_value=w_init(shape=(input_dim, units), dtype='float32'),\r\n",
        "          trainable=True)\r\n",
        "      b_init = tf.zeros_initializer()\r\n",
        "      self.b = tf.Variable(\r\n",
        "          initial_value=b_init(shape=(units,), dtype='float32'),\r\n",
        "          trainable=True)\r\n",
        "\r\n",
        "  def call(self, inputs):\r\n",
        "      return tf.matmul(inputs, self.w) + self.b\r\n",
        "\r\n",
        "# Instantiate our layer.\r\n",
        "linear_layer = Linear(4, 2)"
      ],
      "execution_count": 10,
      "outputs": []
    },
    {
      "cell_type": "code",
      "metadata": {
        "id": "3uSddFsDSlE9"
      },
      "source": [
        "y = linear_layer(tf.ones((2, 2)))\r\n",
        "assert y.shape == (2, 4)"
      ],
      "execution_count": 11,
      "outputs": []
    },
    {
      "cell_type": "code",
      "metadata": {
        "id": "5RVxadj3Smho"
      },
      "source": [
        "assert linear_layer.weights == [linear_layer.w, linear_layer.b]"
      ],
      "execution_count": 12,
      "outputs": []
    },
    {
      "cell_type": "code",
      "metadata": {
        "id": "50IDBH7JSnx3"
      },
      "source": [
        "class Linear(Layer):\r\n",
        "  \"\"\"y = w.x + b\"\"\"\r\n",
        "\r\n",
        "  def __init__(self, units=32):\r\n",
        "      super(Linear, self).__init__()\r\n",
        "      self.units = units\r\n",
        "\r\n",
        "  def build(self, input_shape):\r\n",
        "      self.w = self.add_weight(shape=(input_shape[-1], self.units),\r\n",
        "                               initializer='random_normal',\r\n",
        "                               trainable=True)\r\n",
        "      self.b = self.add_weight(shape=(self.units,),\r\n",
        "                               initializer='random_normal',\r\n",
        "                               trainable=True)\r\n",
        "\r\n",
        "  def call(self, inputs):\r\n",
        "      return tf.matmul(inputs, self.w) + self.b\r\n",
        "\r\n",
        "\r\n",
        "# Instantiate our lazy layer.\r\n",
        "linear_layer = Linear(4)\r\n",
        "\r\n",
        "# This will also call `build(input_shape)` and create the weights.\r\n",
        "y = linear_layer(tf.ones((2, 2)))\r\n",
        "assert len(linear_layer.weights) == 2"
      ],
      "execution_count": 13,
      "outputs": []
    },
    {
      "cell_type": "code",
      "metadata": {
        "colab": {
          "base_uri": "https://localhost:8080/"
        },
        "id": "PRmn1Y2CSpnm",
        "outputId": "a7a96cd4-9482-4a2c-e3a3-9770c1608efe"
      },
      "source": [
        "from tensorflow.keras.layers import Layer\r\n",
        "\r\n",
        "class ComputeSum(Layer):\r\n",
        "  \"\"\"Returns the sum of the inputs.\"\"\"\r\n",
        "\r\n",
        "  def __init__(self, input_dim):\r\n",
        "      super(ComputeSum, self).__init__()\r\n",
        "      # Create a non-trainable weight.\r\n",
        "      self.total = tf.Variable(initial_value=tf.zeros((input_dim,)),\r\n",
        "                               trainable=False)\r\n",
        "\r\n",
        "  def call(self, inputs):\r\n",
        "      self.total.assign_add(tf.reduce_sum(inputs, axis=0))\r\n",
        "      return self.total  \r\n",
        "\r\n",
        "my_sum = ComputeSum(2)\r\n",
        "x = tf.ones((2, 2))\r\n",
        "\r\n",
        "y = my_sum(x)\r\n",
        "print(y.numpy())  # [2. 2.]\r\n",
        "\r\n",
        "y = my_sum(x)\r\n",
        "print(y.numpy())  # [4. 4.]\r\n",
        "\r\n",
        "assert my_sum.weights == [my_sum.total]\r\n",
        "assert my_sum.non_trainable_weights == [my_sum.total]\r\n",
        "assert my_sum.trainable_weights == []"
      ],
      "execution_count": 14,
      "outputs": [
        {
          "output_type": "stream",
          "text": [
            "[2. 2.]\n",
            "[4. 4.]\n"
          ],
          "name": "stdout"
        }
      ]
    },
    {
      "cell_type": "code",
      "metadata": {
        "id": "_cSoiGNKSrNo"
      },
      "source": [
        "# Let's reuse the Linear class\r\n",
        "# with a `build` method that we defined above.\r\n",
        "\r\n",
        "class MLP(Layer):\r\n",
        "    \"\"\"Simple stack of Linear layers.\"\"\"\r\n",
        "\r\n",
        "    def __init__(self):\r\n",
        "        super(MLP, self).__init__()\r\n",
        "        self.linear_1 = Linear(32)\r\n",
        "        self.linear_2 = Linear(32)\r\n",
        "        self.linear_3 = Linear(10)\r\n",
        "\r\n",
        "    def call(self, inputs):\r\n",
        "        x = self.linear_1(inputs)\r\n",
        "        x = tf.nn.relu(x)\r\n",
        "        x = self.linear_2(x)\r\n",
        "        x = tf.nn.relu(x)\r\n",
        "        return self.linear_3(x)\r\n",
        "\r\n",
        "mlp = MLP()\r\n",
        "\r\n",
        "# The first call to the `mlp` object will create the weights.\r\n",
        "y = mlp(tf.ones(shape=(3, 64)))\r\n",
        "\r\n",
        "# Weights are recursively tracked.\r\n",
        "assert len(mlp.weights) == 6"
      ],
      "execution_count": 15,
      "outputs": []
    },
    {
      "cell_type": "code",
      "metadata": {
        "id": "3qtu5qWRSsx0"
      },
      "source": [
        "from tensorflow.keras.layers import Layer\r\n",
        "\r\n",
        "class Dropout(Layer):\r\n",
        "  \r\n",
        "  def __init__(self, rate):\r\n",
        "    super(Dropout, self).__init__()\r\n",
        "    self.rate = rate\r\n",
        "\r\n",
        "  def call(self, inputs, training=None):\r\n",
        "    if training:\r\n",
        "      return tf.nn.dropout(inputs, rate=self.rate)\r\n",
        "    return inputs\r\n",
        "\r\n",
        "class MLPWithDropout(Layer):\r\n",
        "\r\n",
        "  def __init__(self):\r\n",
        "      super(MLPWithDropout, self).__init__()\r\n",
        "      self.linear_1 = Linear(32)\r\n",
        "      self.dropout = Dropout(0.5)\r\n",
        "      self.linear_3 = Linear(10)\r\n",
        "\r\n",
        "  def call(self, inputs, training=None):\r\n",
        "      x = self.linear_1(inputs)\r\n",
        "      x = tf.nn.relu(x)\r\n",
        "      x = self.dropout(x, training=training)\r\n",
        "      return self.linear_3(x)\r\n",
        "    \r\n",
        "mlp = MLPWithDropout()\r\n",
        "y_train = mlp(tf.ones((2, 2)), training=True)\r\n",
        "y_test = mlp(tf.ones((2, 2)), training=False)"
      ],
      "execution_count": 16,
      "outputs": []
    },
    {
      "cell_type": "code",
      "metadata": {
        "id": "ghdMptllSujS"
      },
      "source": [
        "inputs = tf.keras.Input(shape=(16,))\r\n",
        "\r\n",
        "# We call layers on these \"type\" objects\r\n",
        "# and they return updated types (new shapes/dtypes).\r\n",
        "x = Linear(32)(inputs) # We are reusing the Linear layer we defined earlier.\r\n",
        "x = Dropout(0.5)(x) # We are reusing the Dropout layer we defined earlier.\r\n",
        "outputs = Linear(10)(x)\r\n",
        "\r\n",
        "# A functional `Model` can be defined by specifying inputs and outputs.\r\n",
        "# A model is itself a layer like any other.\r\n",
        "model = tf.keras.Model(inputs, outputs)\r\n",
        "\r\n",
        "# A functional model already has weights, before being called on any data.\r\n",
        "# That's because we defined its input shape in advance (in `Input`).\r\n",
        "assert len(model.weights) == 4\r\n",
        "\r\n",
        "# Let's call our model on some data.\r\n",
        "y = model(tf.ones((2, 16)))\r\n",
        "assert y.shape == (2, 10)"
      ],
      "execution_count": 17,
      "outputs": []
    },
    {
      "cell_type": "code",
      "metadata": {
        "id": "3-UGNAgFSwAS"
      },
      "source": [
        "from tensorflow.keras import Sequential\r\n",
        "\r\n",
        "model = Sequential([Linear(32), Dropout(0.5), Linear(10)])\r\n",
        "\r\n",
        "y = model(tf.ones((2, 16)))\r\n",
        "assert y.shape == (2, 10)"
      ],
      "execution_count": 18,
      "outputs": []
    },
    {
      "cell_type": "code",
      "metadata": {
        "colab": {
          "base_uri": "https://localhost:8080/"
        },
        "id": "704U96daSxWD",
        "outputId": "d906ba21-256f-49f1-9ceb-e1b30919bd76"
      },
      "source": [
        "bce = tf.keras.losses.BinaryCrossentropy()\r\n",
        "y_true = [0., 0., 1., 1.]  # Targets\r\n",
        "y_pred = [1., 1., 1., 0.]  # Predictions\r\n",
        "loss = bce(y_true, y_pred)\r\n",
        "print('Loss:', loss.numpy())"
      ],
      "execution_count": 19,
      "outputs": [
        {
          "output_type": "stream",
          "text": [
            "Loss: 11.522857\n"
          ],
          "name": "stdout"
        }
      ]
    },
    {
      "cell_type": "code",
      "metadata": {
        "colab": {
          "base_uri": "https://localhost:8080/"
        },
        "id": "_g9MeWlwSyww",
        "outputId": "3de0b005-6bb7-4dfd-a151-9bfd47fae7f7"
      },
      "source": [
        "m = tf.keras.metrics.AUC()\r\n",
        "m.update_state([0, 1, 1, 1], [0, 1, 0, 0])\r\n",
        "print('Intermediate result:', m.result().numpy())\r\n",
        "\r\n",
        "m.update_state([1, 1, 1, 1], [0, 1, 1, 0])\r\n",
        "print('Final result:', m.result().numpy())"
      ],
      "execution_count": 20,
      "outputs": [
        {
          "output_type": "stream",
          "text": [
            "Intermediate result: 0.6666667\n",
            "Final result: 0.71428573\n"
          ],
          "name": "stdout"
        }
      ]
    },
    {
      "cell_type": "code",
      "metadata": {
        "colab": {
          "base_uri": "https://localhost:8080/"
        },
        "id": "Uxn9YODQS0GV",
        "outputId": "88640bcf-8c8f-4c3a-a593-ac17b20ca6ab"
      },
      "source": [
        "class BinaryTruePositives(tf.keras.metrics.Metric):\r\n",
        "\r\n",
        "  def __init__(self, name='binary_true_positives', **kwargs):\r\n",
        "    super(BinaryTruePositives, self).__init__(name=name, **kwargs)\r\n",
        "    self.true_positives = self.add_weight(name='tp', initializer='zeros')\r\n",
        "\r\n",
        "  def update_state(self, y_true, y_pred, sample_weight=None):\r\n",
        "    y_true = tf.cast(y_true, tf.bool)\r\n",
        "    y_pred = tf.cast(y_pred, tf.bool)\r\n",
        "\r\n",
        "    values = tf.logical_and(tf.equal(y_true, True), tf.equal(y_pred, True))\r\n",
        "    values = tf.cast(values, self.dtype)\r\n",
        "    if sample_weight is not None:\r\n",
        "      sample_weight = tf.cast(sample_weight, self.dtype)\r\n",
        "      values = tf.multiply(values, sample_weight)\r\n",
        "    self.true_positives.assign_add(tf.reduce_sum(values))\r\n",
        "\r\n",
        "  def result(self):\r\n",
        "    return self.true_positives\r\n",
        "\r\n",
        "  def reset_states(self):\r\n",
        "    self.true_positive.assign(0)\r\n",
        "\r\n",
        "m = BinaryTruePositives()\r\n",
        "m.update_state([0, 1, 1, 1], [0, 1, 0, 0])\r\n",
        "print('Intermediate result:', m.result().numpy())\r\n",
        "\r\n",
        "m.update_state([1, 1, 1, 1], [0, 1, 1, 0])\r\n",
        "print('Final result:', m.result().numpy())"
      ],
      "execution_count": 21,
      "outputs": [
        {
          "output_type": "stream",
          "text": [
            "Intermediate result: 1.0\n",
            "Final result: 3.0\n"
          ],
          "name": "stdout"
        }
      ]
    },
    {
      "cell_type": "code",
      "metadata": {
        "colab": {
          "base_uri": "https://localhost:8080/"
        },
        "id": "mRwVJbmFS15N",
        "outputId": "2a98985c-cad6-494e-d87c-b87d04e1c3e7"
      },
      "source": [
        "from tensorflow.keras import layers\r\n",
        "\r\n",
        "# Prepare a dataset.\r\n",
        "(x_train, y_train), (x_test, y_test) = tf.keras.datasets.mnist.load_data()\r\n",
        "x_train = x_train[:].reshape(60000, 784).astype('float32') / 255\r\n",
        "dataset = tf.data.Dataset.from_tensor_slices((x_train, y_train))\r\n",
        "dataset = dataset.shuffle(buffer_size=1024).batch(64)\r\n",
        "\r\n",
        "# Instantiate a simple classification model\r\n",
        "model = tf.keras.Sequential([\r\n",
        "  layers.Dense(256, activation=tf.nn.relu),\r\n",
        "  layers.Dense(256, activation=tf.nn.relu),\r\n",
        "  layers.Dense(10)\r\n",
        "])\r\n",
        "\r\n",
        "# Instantiate a logistic loss function that expects integer targets.\r\n",
        "loss = tf.keras.losses.SparseCategoricalCrossentropy(from_logits=True)\r\n",
        "\r\n",
        "# Instantiate an accuracy metric.\r\n",
        "accuracy = tf.keras.metrics.SparseCategoricalAccuracy()\r\n",
        "\r\n",
        "# Instantiate an optimizer.\r\n",
        "optimizer = tf.keras.optimizers.Adam()\r\n",
        "\r\n",
        "# Iterate over the batches of the dataset.\r\n",
        "for step, (x, y) in enumerate(dataset):\r\n",
        "  # Open a GradientTape.\r\n",
        "  with tf.GradientTape() as tape:\r\n",
        "\r\n",
        "    # Forward pass.\r\n",
        "    logits = model(x)\r\n",
        "\r\n",
        "    # Loss value for this batch.\r\n",
        "    loss_value = loss(y, logits)\r\n",
        "     \r\n",
        "  # Get gradients of loss wrt the weights.\r\n",
        "  gradients = tape.gradient(loss_value, model.trainable_weights)\r\n",
        "  \r\n",
        "  # Update the weights of our linear layer.\r\n",
        "  optimizer.apply_gradients(zip(gradients, model.trainable_weights))\r\n",
        "\r\n",
        "  # Update the running accuracy.\r\n",
        "  accuracy.update_state(y, logits)\r\n",
        "  \r\n",
        "  # Logging.\r\n",
        "  if step % 100 == 0:\r\n",
        "    print('Step:', step)\r\n",
        "    print('Loss from last step: %.3f' % loss_value)\r\n",
        "    print('Total running accuracy so far: %.3f' % accuracy.result())"
      ],
      "execution_count": 22,
      "outputs": [
        {
          "output_type": "stream",
          "text": [
            "Downloading data from https://storage.googleapis.com/tensorflow/tf-keras-datasets/mnist.npz\n",
            "11493376/11490434 [==============================] - 0s 0us/step\n",
            "Step: 0\n",
            "Loss from last step: 2.313\n",
            "Total running accuracy so far: 0.156\n",
            "Step: 100\n",
            "Loss from last step: 0.151\n",
            "Total running accuracy so far: 0.836\n",
            "Step: 200\n",
            "Loss from last step: 0.203\n",
            "Total running accuracy so far: 0.875\n",
            "Step: 300\n",
            "Loss from last step: 0.219\n",
            "Total running accuracy so far: 0.895\n",
            "Step: 400\n",
            "Loss from last step: 0.280\n",
            "Total running accuracy so far: 0.908\n",
            "Step: 500\n",
            "Loss from last step: 0.153\n",
            "Total running accuracy so far: 0.916\n",
            "Step: 600\n",
            "Loss from last step: 0.103\n",
            "Total running accuracy so far: 0.922\n",
            "Step: 700\n",
            "Loss from last step: 0.188\n",
            "Total running accuracy so far: 0.927\n",
            "Step: 800\n",
            "Loss from last step: 0.108\n",
            "Total running accuracy so far: 0.930\n",
            "Step: 900\n",
            "Loss from last step: 0.018\n",
            "Total running accuracy so far: 0.934\n"
          ],
          "name": "stdout"
        }
      ]
    },
    {
      "cell_type": "code",
      "metadata": {
        "id": "6Pc02zE-S4-m"
      },
      "source": [
        ""
      ],
      "execution_count": null,
      "outputs": []
    }
  ]
}